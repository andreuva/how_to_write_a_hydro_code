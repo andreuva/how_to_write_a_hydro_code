{
 "cells": [
  {
   "cell_type": "markdown",
   "metadata": {},
   "source": [
    "# How To Write A Hydro Code\n",
    "\n",
    "Michael Zingale"
   ]
  },
  {
   "cell_type": "markdown",
   "metadata": {},
   "source": [
    "There are _many_ methods for solving the equations of hydrodynamics.  We will make some choices right from the start:\n",
    "\n",
    "  * We will consider **finite-volume methods**.  These are popular in astrophysics because they are based on the integral form of the conservative equations and properly conserve mass, momentum, and energy.\n",
    "  \n",
    "  * We will look at a simple 2nd order **method-of-lines** integration.  We do this for simplicity here, and will point out where things are commonly done differently.  This scheme has a much simpler spatial reconstruction and relies on an integrator (like a Runge-Kutta method) to advance in time.\n",
    "  \n",
    "  * We will work in 1-d.  \n",
    "    \n",
    "Much more in-depth details and derivations are given in my hydro notes available online: https://github.com/Open-Astrophysics-Bookshelf/numerical_exercises\n",
    "\n",
    "For a greater variety of methods, in 2-d, see the pyro code: https://github.com/python-hydro/pyro2 (ref: [Harpole et al. JOSS](http://joss.theoj.org/papers/10.21105/joss.01265))"
   ]
  },
  {
   "cell_type": "markdown",
   "metadata": {},
   "source": [
    "## Overview\n",
    "\n",
    "We'll focus on the Euler equations.  In 1-d, these are:\n",
    "\n",
    "\\begin{align*}\n",
    "  \\frac{\\partial \\rho}{\\partial t} + \\frac{\\partial (\\rho u)}{\\partial x} & = 0 \\\\\n",
    "  \\frac{\\partial (\\rho u)}{\\partial t} + \\frac{\\partial (\\rho u^2 + p)}{\\partial x} &= 0 \\\\\n",
    "  \\frac{\\partial (\\rho E)}{\\partial t} + \\frac{\\partial (u(\\rho E + p))}{\\partial x} &= 0 \\\\\n",
    "  \\end{align*}\n",
    "\n",
    "This is a set of (hyperbolic) partial differential equations.  To solve these, we need to discretize the equations in both space and time.  We'll use grid-based methods (in addition to the finite-volume method, this can include finite-difference and finite-element methods).  \n",
    "\n",
    "Our system of equations can be expressed in conservative form:\n",
    "$$ \\frac{\\partial U}{\\partial t} + \\frac{\\partial F(U)}{\\partial x} = 0$$\n",
    "\n",
    "In a finite-volume method, we store the state of the fluid in discrete volumes in space, and we can refer to this discretized state with an index.  To see this, we integrate the conservative law system in space over a volume $[x_{i-1/2},x_{i+1/2}]$:\n",
    "$$\\frac{\\partial \\langle U\\rangle_i}{\\partial t} = - \\frac{F_{i+1/2} - F_{i-1/2}}{\\Delta x}$$\n",
    "\n",
    "This is the form of the equations we will solve.  Here, $\\langle U\\rangle_i$ represents the average state of the fluid in a volume:\n",
    "$$\\langle U\\rangle_i = \\frac{1}{\\Delta x} \\int_{x_{i-1/2}}^{x_{i+1/2}} U(x) dx$$\n",
    "\n",
    "The state on the grid represents an instance in time.  We evolve the state by computing the fluxes through the volumes.  These fluxes tell us how much the state changes in each volume over some small timestep, $\\Delta t$.  \n",
    "\n",
    "Our code will have the following structure:\n",
    "\n",
    "  * Create our numerical grid\n",
    "  \n",
    "  * Set the initial conditions\n",
    "  \n",
    "  * Main timestep evolution loop\n",
    "  \n",
    "    * Compute the timestep\n",
    "    \n",
    "    * Time-integation loop (depends on the number of stages in the integrator)\n",
    "  \n",
    "        * Reconstruct the state to interfaces\n",
    "    \n",
    "        * Solve Riemann problem to find the fluxes through the interface\n",
    "    \n",
    "        * Do a conservative update of the state to the stage\n",
    "    \n",
    "    * Output"
   ]
  },
  {
   "cell_type": "markdown",
   "metadata": {},
   "source": [
    "## Grid"
   ]
  },
  {
   "cell_type": "markdown",
   "metadata": {},
   "source": [
    "We'll manage our 1-d grid via a class `FVGrid`.  We will divide the domain into a number of zones (or volumes) that will store the state.  To implement boundary conditions, we traditionally use ghost cells--extra cells added to each end of the domain.\n",
    "\n",
    "The main information we need to setup the grid are the number of zones in the interior and the number of ghost cells."
   ]
  },
  {
   "cell_type": "code",
   "execution_count": 1,
   "metadata": {},
   "outputs": [],
   "source": [
    "import numpy as np\n",
    "\n",
    "# some global quantities -- usually, we'd put these as members in some simulation class\n",
    "URHO = 0\n",
    "UMX = 1\n",
    "UENER = 2\n",
    "\n",
    "QRHO = 0\n",
    "QU = 1\n",
    "QP = 2\n",
    "\n",
    "NVAR = 3\n",
    "\n",
    "gamma = 1.4\n",
    "\n",
    "C = 0.8\n",
    "\n",
    "class FVGrid:\n",
    "\n",
    "    def __init__(self, nx, ng, xmin=0.0, xmax=1.0):\n",
    "\n",
    "        self.xmin = xmin\n",
    "        self.xmax = xmax\n",
    "        self.ng = ng\n",
    "        self.nx = nx\n",
    "\n",
    "        # python is zero-based.  Make easy intergers to know where the\n",
    "        # real data lives\n",
    "        self.ilo = ng\n",
    "        self.ihi = ng+nx-1\n",
    "\n",
    "        # physical coords -- cell-centered\n",
    "        self.dx = (xmax - xmin)/(nx)\n",
    "        self.x = xmin + (np.arange(nx+2*ng)-ng+0.5)*self.dx\n",
    "\n",
    "    def scratch_array(self, nc=1):\n",
    "        \"\"\" return a scratch array dimensioned for our grid \"\"\"\n",
    "        if nc == 1:\n",
    "            return np.zeros((self.nx+2*self.ng), dtype=np.float64)\n",
    "        else:\n",
    "            return np.zeros((self.nx+2*self.ng, nc), dtype=np.float64)\n",
    "\n",
    "    def fill_BCs(self, atmp):\n",
    "        \"\"\" fill all ghost cells with zero-gradient boundary conditions \"\"\"\n",
    "\n",
    "        try:\n",
    "            nc = atmp.shape[1]\n",
    "        except:\n",
    "            nc = 1\n",
    "\n",
    "        if nc == 1:\n",
    "            atmp[0:self.ilo] = atmp[self.ilo]\n",
    "            atmp[self.ihi+1:] = atmp[self.ihi]\n",
    "        else:\n",
    "            for n in range(nc):\n",
    "                atmp[0:self.ilo, n] = atmp[self.ilo, n]\n",
    "                atmp[self.ihi+1:, n] = atmp[self.ihi, n]"
   ]
  },
  {
   "cell_type": "markdown",
   "metadata": {},
   "source": [
    "## Reconstruction"
   ]
  },
  {
   "cell_type": "markdown",
   "metadata": {},
   "source": [
    "We need to use the cell-averages to figure out what the fluid state is on the interfaces.  We'll _reconstruct_ the cell-averages as piecewise lines that give us the same average in the zone.  We then follow these lines to the interfaces to define the left and right state at each interface."
   ]
  },
  {
   "cell_type": "code",
   "execution_count": 2,
   "metadata": {},
   "outputs": [],
   "source": [
    "def cons_to_prim(grid, U):\n",
    "    # convert to primitive\n",
    "    q = grid.scratch_array(nc=NVAR)\n",
    "\n",
    "    q[:, QRHO] = U[:, URHO]\n",
    "    q[:, QU] = U[:, UMX]/U[:, URHO]\n",
    "    q[:, QP] = (U[:, UENER] - 0.5*q[:, QRHO]*q[:, QU]**2)*(gamma - 1.0)\n",
    "    return q\n",
    "\n",
    "def states(grid, U):\n",
    "    q = cons_to_prim(grid, U)\n",
    "\n",
    "    # construct the slopes\n",
    "    dq = grid.scratch_array(nc=NVAR)\n",
    "\n",
    "    for n in range(NVAR):\n",
    "        # unlimited centered slopes\n",
    "        dq[grid.ilo-1:grid.ihi+2,n] = 0.5*(q[grid.ilo:grid.ihi+3,n] - q[grid.ilo-2:grid.ihi+1,n])\n",
    "\n",
    "    # now make the states\n",
    "    q_l = grid.scratch_array(nc=NVAR)\n",
    "    q_l[grid.ilo:grid.ihi+2, :] = q[grid.ilo-1:grid.ihi+1, :] + 0.5*dq[grid.ilo-1:grid.ihi+1, :]\n",
    "\n",
    "    q_r = grid.scratch_array(nc=NVAR)\n",
    "    q_r[grid.ilo:grid.ihi+2, :] = q[grid.ilo:grid.ihi+2, :] - 0.5*dq[grid.ilo:grid.ihi+2, :]\n",
    "    \n",
    "    return q_l, q_r"
   ]
  },
  {
   "cell_type": "markdown",
   "metadata": {},
   "source": [
    "## Riemann problem and conservative update"
   ]
  },
  {
   "cell_type": "markdown",
   "metadata": {},
   "source": [
    "We could spend an entire day talking about how to solve the Riemann problem.  The basic idea is that at each interface, we have a left and right state.  Information about the jump across this interface will be carried away from the interface by the 3 hydrodynamic waves ($u$ and $u\\pm c$).  The solution to the Riemann problem that we need is the state on the interface--with that we can evaluate the flux through the interface.  \n",
    "\n",
    "To solve the Riemann problem, we need to know how much each variable changes across each of the three waves.  To complicate matters, the left and right waves can be either shocks or rarefactions.  The middle wave ($u$) is always a contact discontinuity (and of our primitive variables, only $\\rho$ jumps across it).\n",
    "\n",
    "For a gamma-law gas, we can write down analytic expressions for the change in the primitive variables across both a rarefaction and shock.  We can then solve these to find the state inbetween the left and right waves, and then compute the wave speeds to find the solution on the interface.  The exact Riemann solution is somewhat expensive to compute, so we often use approximations.  Here we'll import a solver that uses the _two-shock approximation_."
   ]
  },
  {
   "cell_type": "code",
   "execution_count": 3,
   "metadata": {},
   "outputs": [],
   "source": [
    "import riemann"
   ]
  },
  {
   "cell_type": "code",
   "execution_count": 4,
   "metadata": {},
   "outputs": [
    {
     "name": "stdout",
     "output_type": "stream",
     "text": [
      "Help on function riemann in module riemann:\n",
      "\n",
      "riemann(q_l, q_r, gamma)\n",
      "    solve the Riemann problem given left and right primitive variable\n",
      "    states.  We return the flux\n",
      "\n"
     ]
    }
   ],
   "source": [
    "help(riemann.riemann)"
   ]
  },
  {
   "cell_type": "markdown",
   "metadata": {},
   "source": [
    "For a method-of-lines approach, we want to just compute the righthand side, $-\\partial F/\\partial x$"
   ]
  },
  {
   "cell_type": "code",
   "execution_count": 5,
   "metadata": {},
   "outputs": [],
   "source": [
    "def make_flux_divergence(grid, U):\n",
    "    \n",
    "    # get the states\n",
    "    q_l, q_r = states(grid, U)\n",
    "\n",
    "    # now solve the Riemann problem\n",
    "    flux = grid.scratch_array(nc=NVAR)\n",
    "    for i in range(grid.ilo, grid.ihi+2):\n",
    "        flux[i, :] = riemann.riemann(q_l[i, :], q_r[i, :], gamma)\n",
    "        #print(\"q_l\", i, q_l[i,:])\n",
    "        #print(\"q_r\", i, q_r[i,:])        \n",
    "        #print(\"flux:\", i, flux[i,:])\n",
    "\n",
    "    A = grid.scratch_array(nc=NVAR)\n",
    "    for n in range(NVAR):\n",
    "        A[grid.ilo:grid.ihi+1, n] = (flux[grid.ilo:grid.ihi+1, n] -\n",
    "                                     flux[grid.ilo+1:grid.ihi+2, n])/grid.dx\n",
    "\n",
    "    #print(\"A\", A.min(), A.max())\n",
    "    return A\n"
   ]
  },
  {
   "cell_type": "markdown",
   "metadata": {},
   "source": [
    "## Timestep"
   ]
  },
  {
   "cell_type": "code",
   "execution_count": 6,
   "metadata": {},
   "outputs": [],
   "source": [
    "def timestep(grid, U):\n",
    "\n",
    "    # compute the sound speed\n",
    "    q = cons_to_prim(grid, U)\n",
    "    c = grid.scratch_array()\n",
    "    c[grid.ilo:grid.ihi+1] = np.sqrt(gamma *\n",
    "                                     q[grid.ilo:grid.ihi+1,QP] /\n",
    "                                     q[grid.ilo:grid.ihi+1,QRHO])\n",
    "\n",
    "    dt = C * grid.dx / (np.abs(q[grid.ilo:grid.ihi+1, QU]) + c[grid.ilo:grid.ihi+1]).max()\n",
    "    return dt\n"
   ]
  },
  {
   "cell_type": "markdown",
   "metadata": {},
   "source": [
    "## Main driver"
   ]
  },
  {
   "cell_type": "code",
   "execution_count": 7,
   "metadata": {},
   "outputs": [],
   "source": [
    "def mol_solve(nx):\n",
    "\n",
    "    grid = FVGrid(nx, 2)\n",
    "    U = grid.scratch_array(nc=NVAR)\n",
    "\n",
    "    # setup initial conditions -- this is Sod's problem\n",
    "    rho_l = 1.0\n",
    "    u_l = 0.0\n",
    "    p_l = 1.0\n",
    "    rho_r = 0.125\n",
    "    u_r = 0.0\n",
    "    p_r = 0.1\n",
    "\n",
    "    idx_l = grid.x < 0.5\n",
    "    idx_r = grid.x >= 0.5\n",
    "\n",
    "    U[idx_l, URHO] = rho_l\n",
    "    U[idx_l, UMX] =  rho_l * u_l\n",
    "    U[idx_l, UENER] = p_l/(gamma - 1.0) + 0.5 * rho_l * u_l**2\n",
    "\n",
    "    U[idx_r, URHO] = rho_r\n",
    "    U[idx_r, UMX] =  rho_r * u_r\n",
    "    U[idx_r, UENER] = p_r/(gamma - 1.0) + 0.5 * rho_r * u_r**2\n",
    "\n",
    "    t = 0.0\n",
    "    tmax = 0.2\n",
    "    \n",
    "    while t < tmax:\n",
    "\n",
    "        # compute the timestep\n",
    "        dt = timestep(grid, U)\n",
    "\n",
    "        if t + dt > tmax:\n",
    "            dt = tmax - t\n",
    "\n",
    "        print(t, dt, U.max())\n",
    "        # second-order RK integration\n",
    "        grid.fill_BCs(U)\n",
    "        k1 = make_flux_divergence(grid, U)\n",
    "\n",
    "        U_tmp = grid.scratch_array(nc=NVAR)\n",
    "        for n in range(NVAR):\n",
    "            U_tmp[:, n] = U[:, n] + 0.5 * dt * k1[:, n]\n",
    "\n",
    "        grid.fill_BCs(U_tmp)\n",
    "        k2 = make_flux_divergence(grid, U_tmp)\n",
    "\n",
    "        for n in range(NVAR):\n",
    "            U[:, n] += dt * k2[:, n]\n",
    "\n",
    "        t += dt\n",
    "\n",
    "    return U"
   ]
  },
  {
   "cell_type": "markdown",
   "metadata": {},
   "source": [
    "## Example: Sod's problem"
   ]
  },
  {
   "cell_type": "code",
   "execution_count": 11,
   "metadata": {},
   "outputs": [
    {
     "name": "stdout",
     "output_type": "stream",
     "text": [
      "0.0 0.005282214092053229 2.5000000000000004\n",
      "0.005282214092053229 0.003007424415625662 2.7223390717148463\n",
      "0.00828963850767889 0.002968045701951156 2.6231211823018787\n",
      "0.011257684209630046 0.002967415388427529 2.6493679906613723\n",
      "0.014225099598057575 0.002971174821318249 2.648012218201317\n",
      "0.017196274419375823 0.0028566620060809875 2.643292482330079\n",
      "0.02005293642545681 0.0028388784258086635 2.646382738868797\n",
      "0.02289181485126547 0.0028450123418080433 2.636815156396104\n",
      "0.025736827193073516 0.0027863596035806264 2.6439093714754964\n",
      "0.02852318679665414 0.0028280888210309957 2.6347770690671615\n",
      "0.03135127561768514 0.002775920696057346 2.6404361466054023\n",
      "0.03412719631374248 0.002778637518814438 2.6336539881820893\n",
      "0.03690583383255692 0.0027850858444235394 2.6368457742798332\n",
      "0.039690919676980456 0.002768755894162499 2.6330629705100925\n",
      "0.042459675571142955 0.002800092089491713 2.633267095425175\n",
      "0.045259767660634664 0.00278034828676833 2.63230973143988\n",
      "0.048040115947403 0.002791175558214844 2.6297897523197067\n",
      "0.05083129150561784 0.0027992627866386824 2.6313163892732336\n",
      "0.05363055429225652 0.00279551463799441 2.62630492297726\n",
      "0.056426068930250935 0.002818533696632272 2.6300070321936415\n",
      "0.059244602626883205 0.002811694177239104 2.622876553475431\n",
      "0.06205629680412231 0.0028112917093514843 2.6284268602735836\n",
      "0.0648675885134738 0.0028239755390576924 2.6194241754399763\n",
      "0.06769156405253149 0.0028211564000526785 2.6266521744031315\n",
      "0.07051272045258417 0.0028168781601075506 2.6180573286647237\n",
      "0.07332959861269171 0.0028198185184672227 2.6246855884819693\n",
      "0.07614941713115894 0.002813664861318101 2.6188742416269672\n",
      "0.07896308199247705 0.0028163055984536485 2.62252070616499\n",
      "0.0817793875909307 0.002813541850678119 2.6192503216014695\n",
      "0.08459292944160882 0.0028132110622761672 2.6201552519768647\n",
      "0.08740614050388498 0.002815386692573675 2.6191974537121707\n",
      "0.09022152719645865 0.0028125541596602014 2.617597781223151\n",
      "0.09303408135611885 0.0028134347703274985 2.6187382316656214\n",
      "0.09584751612644635 0.0028138510552945944 2.614852071140235\n",
      "0.09866136718174094 0.0028115247856049025 2.617911711799622\n",
      "0.10147289196734584 0.0028133298954848684 2.6119335751743646\n",
      "0.10428622186283071 0.002811832520020129 2.6167472684086315\n",
      "0.10709805438285083 0.002810430820098894 2.6110951255982946\n",
      "0.10990848520294973 0.0028136079339749235 2.6152677632735806\n",
      "0.11272209313692465 0.0028100616305131777 2.611809954336151\n",
      "0.11553215476743782 0.0028098424360572575 2.6134996954870107\n",
      "0.11834199720349507 0.002811615948755297 2.6120773826390913\n",
      "0.12115361315225037 0.0028087341748739055 2.6114626069297313\n",
      "0.12396234732712427 0.002809578926383316 2.6119210368439907\n",
      "0.12677192625350758 0.002809874850488883 2.6091727026638387\n",
      "0.12958180110399647 0.002807829298794778 2.6113781700924514\n",
      "0.13238963040279125 0.0028096176446024607 2.6066538509434936\n",
      "0.13519924804739372 0.0028083762455709286 2.6104786156422617\n",
      "0.13800762429296465 0.0028071265307155024 2.606157483230773\n",
      "0.14081475082368014 0.002809819415106607 2.609247380650678\n",
      "0.14362457023878675 0.002807129038965545 2.6067744046054564\n",
      "0.1464316992777523 0.002806655049987745 2.6077116377772818\n",
      "0.14923835432774005 0.0028090677197471553 2.606977029681385\n",
      "0.1520474220474872 0.0028060617473105705 2.6058935679746287\n",
      "0.15485348379479777 0.002806339286271302 2.606786294828038\n",
      "0.15765982308106907 0.002807578778531627 2.6038092441941623\n",
      "0.1604674018596007 0.0028051906573717013 2.6062340328635725\n",
      "0.1632725925169724 0.0028061850687852784 2.6017742617749526\n",
      "0.16607877758575768 0.0028062491610039136 2.605343893546944\n",
      "0.1688850267467616 0.0028044665085123727 2.6025419230068016\n",
      "0.17168949325527397 0.0028061489181324243 2.604137493576371\n",
      "0.17449564217340638 0.002805093169331331 2.602913076349254\n",
      "0.17730073534273771 0.002803906436702946 2.6026382000643573\n",
      "0.18010464177944066 0.0028062495545180125 2.6029101661566774\n",
      "0.1829108913339587 0.0028040956693659034 2.6008653805502133\n",
      "0.1857149870033246 0.0028034872548806954 2.6025532201183985\n",
      "0.18851847425820528 0.002806231630686924 2.5988345612478523\n",
      "0.1913247058888922 0.0028032188726184668 2.6018666157074035\n",
      "0.19412792476151067 0.002803170877688482 2.599100504524437\n",
      "0.19693109563919914 0.0028049709001170815 2.600868808599406\n",
      "0.19973606653931622 0.00026393346068379064 2.59953070554877\n"
     ]
    }
   ],
   "source": [
    "U = mol_solve(128)"
   ]
  },
  {
   "cell_type": "code",
   "execution_count": 12,
   "metadata": {},
   "outputs": [],
   "source": [
    "import matplotlib.pyplot as plt"
   ]
  },
  {
   "cell_type": "code",
   "execution_count": 13,
   "metadata": {},
   "outputs": [
    {
     "data": {
      "text/plain": [
       "[<matplotlib.lines.Line2D at 0x7fe76ad0b8d0>]"
      ]
     },
     "execution_count": 13,
     "metadata": {},
     "output_type": "execute_result"
    },
    {
     "data": {
      "image/png": "[encoded data removed]",
      "text/plain": [
       "<Figure size 432x288 with 1 Axes>"
      ]
     },
     "metadata": {
      "needs_background": "light"
     },
     "output_type": "display_data"
    }
   ],
   "source": [
    "plt.plot(U[:,URHO])"
   ]
  },
  {
   "cell_type": "code",
   "execution_count": null,
   "metadata": {},
   "outputs": [],
   "source": []
  }
 ],
 "metadata": {
  "kernelspec": {
   "display_name": "Python 3",
   "language": "python",
   "name": "python3"
  },
  "language_info": {
   "codemirror_mode": {
    "name": "ipython",
    "version": 3
   },
   "file_extension": ".py",
   "mimetype": "text/x-python",
   "name": "python",
   "nbconvert_exporter": "python",
   "pygments_lexer": "ipython3",
   "version": "3.7.3"
  }
 },
 "nbformat": 4,
 "nbformat_minor": 4
}
