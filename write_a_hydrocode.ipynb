{
 "cells": [
  {
   "cell_type": "markdown",
   "metadata": {},
   "source": [
    "# How To Write A Hydro Code\n",
    "\n",
    "Michael Zingale"
   ]
  },
  {
   "cell_type": "markdown",
   "metadata": {},
   "source": [
    "There are _many_ methods for solving the equations of hydrodynamics.  We will make some choices right from the start:\n",
    "\n",
    "  * We will consider **finite-volume methods**.  These are popular in astrophysics because they are based on the integral form of the conservative equations and properly conserve mass, momentum, and energy.\n",
    "  \n",
    "  * We will look at a simple 2nd order **method-of-lines** integration.  We do this for simplicity here, and will point out where things are commonly done differently.  This scheme has a much simpler spatial reconstruction and relies on an integrator (like a Runge-Kutta method) to advance in time.\n",
    "  \n",
    "  * We will work in 1-d.\n",
    "  \n",
    "  * We won't cover in detail how to write a Riemann solver (that's a math exercise as much as anything else and beyond the scope of this notebook.\n",
    "    \n",
    "Much more in-depth details and derivations are given in my hydro notes available online: https://github.com/Open-Astrophysics-Bookshelf/numerical_exercises\n",
    "\n",
    "For a greater variety of methods, in 2-d, see the pyro code: https://github.com/python-hydro/pyro2 (ref: [Harpole et al. JOSS](http://joss.theoj.org/papers/10.21105/joss.01265))"
   ]
  },
  {
   "cell_type": "markdown",
   "metadata": {},
   "source": [
    "## Overview\n",
    "\n",
    "We'll focus on the Euler equations.  In 1-d, these are:\n",
    "\n",
    "\\begin{align*}\n",
    "  \\frac{\\partial \\rho}{\\partial t} + \\frac{\\partial (\\rho u)}{\\partial x} & = 0 \\\\\n",
    "  \\frac{\\partial (\\rho u)}{\\partial t} + \\frac{\\partial (\\rho u^2 + p)}{\\partial x} &= 0 \\\\\n",
    "  \\frac{\\partial (\\rho E)}{\\partial t} + \\frac{\\partial (u(\\rho E + p))}{\\partial x} &= 0 \\\\\n",
    "  \\end{align*}\n",
    "\n",
    "This is a set of (hyperbolic) partial differential equations.  To solve these, we need to discretize the equations in both space and time.  We'll use grid-based methods (in addition to the finite-volume method, this can include finite-difference and finite-element methods).  \n",
    "\n",
    "Our system of equations can be expressed in conservative form:\n",
    "$$ \\frac{\\partial U}{\\partial t} + \\frac{\\partial F(U)}{\\partial x} = 0$$\n",
    "\n",
    "In a finite-volume method, we store the state of the fluid in discrete volumes in space, and we can refer to this discretized state with an index.  To see this, we integrate the conservative law system in space over a volume $[x_{i-1/2},x_{i+1/2}]$:\n",
    "$$\\frac{\\partial \\langle U\\rangle_i}{\\partial t} = - \\frac{F_{i+1/2} - F_{i-1/2}}{\\Delta x}$$\n",
    "\n",
    "This is the form of the equations we will solve.  Here, $\\langle U\\rangle_i$ represents the average state of the fluid in a volume:\n",
    "$$\\langle U\\rangle_i = \\frac{1}{\\Delta x} \\int_{x_{i-1/2}}^{x_{i+1/2}} U(x) dx$$\n",
    "\n",
    "The state on the grid represents an instance in time.  We evolve the state by computing the fluxes through the volumes.  These fluxes tell us how much the state changes in each volume over some small timestep, $\\Delta t$.  \n",
    "\n",
    "Our code will have the following structure:\n",
    "\n",
    "  * Create our numerical grid\n",
    "  \n",
    "  * Set the initial conditions\n",
    "  \n",
    "  * Main timestep evolution loop\n",
    "  \n",
    "    * Compute the timestep\n",
    "    \n",
    "    * Time-integation loop (depends on the number of stages in the integrator)\n",
    "  \n",
    "        * Reconstruct the state to interfaces\n",
    "    \n",
    "        * Solve Riemann problem to find the fluxes through the interface\n",
    "    \n",
    "        * Do a conservative update of the state to the stage\n",
    "    \n",
    "    * Output"
   ]
  },
  {
   "cell_type": "markdown",
   "metadata": {},
   "source": [
    "## Grid"
   ]
  },
  {
   "cell_type": "markdown",
   "metadata": {},
   "source": [
    "We'll manage our 1-d grid via a class `FVGrid`.  We will divide the domain into a number of zones (or volumes) that will store the state.  To implement boundary conditions, we traditionally use ghost cells--extra cells added to each end of the domain.\n",
    "\n",
    "The main information we need to setup the grid are the number of zones in the interior and the number of ghost cells."
   ]
  },
  {
   "cell_type": "code",
   "execution_count": 1,
   "metadata": {},
   "outputs": [],
   "source": [
    "import numpy as np\n",
    "\n",
    "# some global quantities -- usually, we'd put these as members in some simulation class\n",
    "URHO = 0\n",
    "UMX = 1\n",
    "UENER = 2\n",
    "\n",
    "QRHO = 0\n",
    "QU = 1\n",
    "QP = 2\n",
    "\n",
    "NVAR = 3\n",
    "\n",
    "gamma = 1.4\n",
    "\n",
    "C = 0.8\n",
    "\n",
    "class FVGrid:\n",
    "\n",
    "    def __init__(self, nx, ng, xmin=0.0, xmax=1.0):\n",
    "\n",
    "        self.xmin = xmin\n",
    "        self.xmax = xmax\n",
    "        self.ng = ng\n",
    "        self.nx = nx\n",
    "\n",
    "        # python is zero-based.  Make easy intergers to know where the\n",
    "        # real data lives\n",
    "        self.ilo = ng\n",
    "        self.ihi = ng+nx-1\n",
    "\n",
    "        # physical coords -- cell-centered\n",
    "        self.dx = (xmax - xmin)/(nx)\n",
    "        self.x = xmin + (np.arange(nx+2*ng)-ng+0.5)*self.dx\n",
    "\n",
    "    def scratch_array(self, nc=1):\n",
    "        \"\"\" return a scratch array dimensioned for our grid \"\"\"\n",
    "        if nc == 1:\n",
    "            return np.zeros((self.nx+2*self.ng), dtype=np.float64)\n",
    "        else:\n",
    "            return np.zeros((self.nx+2*self.ng, nc), dtype=np.float64)\n",
    "\n",
    "    def fill_BCs(self, atmp):\n",
    "        \"\"\" fill all ghost cells with zero-gradient boundary conditions \"\"\"\n",
    "\n",
    "        try:\n",
    "            nc = atmp.shape[1]\n",
    "        except:\n",
    "            nc = 1\n",
    "\n",
    "        if nc == 1:\n",
    "            atmp[0:self.ilo] = atmp[self.ilo]\n",
    "            atmp[self.ihi+1:] = atmp[self.ihi]\n",
    "        else:\n",
    "            for n in range(nc):\n",
    "                atmp[0:self.ilo, n] = atmp[self.ilo, n]\n",
    "                atmp[self.ihi+1:, n] = atmp[self.ihi, n]"
   ]
  },
  {
   "cell_type": "markdown",
   "metadata": {},
   "source": [
    "## Reconstruction"
   ]
  },
  {
   "cell_type": "markdown",
   "metadata": {},
   "source": [
    "We need to use the cell-averages to figure out what the fluid state is on the interfaces.  We'll _reconstruct_ the cell-averages as piecewise lines that give us the same average in the zone.  We then follow these lines to the interfaces to define the left and right state at each interface."
   ]
  },
  {
   "cell_type": "code",
   "execution_count": 2,
   "metadata": {},
   "outputs": [],
   "source": [
    "def cons_to_prim(grid, U):\n",
    "    # convert to primitive\n",
    "    q = grid.scratch_array(nc=NVAR)\n",
    "\n",
    "    q[:, QRHO] = U[:, URHO]\n",
    "    q[:, QU] = U[:, UMX]/U[:, URHO]\n",
    "    q[:, QP] = (U[:, UENER] - 0.5*q[:, QRHO]*q[:, QU]**2)*(gamma - 1.0)\n",
    "    return q\n",
    "\n",
    "def states(grid, U):\n",
    "    q = cons_to_prim(grid, U)\n",
    "\n",
    "    # construct the slopes\n",
    "    dq = grid.scratch_array(nc=NVAR)\n",
    "\n",
    "    for n in range(NVAR):\n",
    "        # MC slope                                                                                                                  \n",
    "        ib = grid.ilo-1                                                                                                          \n",
    "        ie = grid.ihi+1                                                                                                          \n",
    "                                                                                                                                        \n",
    "        dc = grid.scratch_array()                                                                                                \n",
    "        dl = grid.scratch_array()                                                                                                \n",
    "        dr = grid.scratch_array()                                                                                                \n",
    "                                                                                                                                        \n",
    "        dc[ib:ie+1] = 0.5*(q[ib+1:ie+2,n] - q[ib-1:ie,n])                                                                             \n",
    "        dl[ib:ie+1] = q[ib+1:ie+2,n] - q[ib:ie+1,n]                                                                                   \n",
    "        dr[ib:ie+1] = q[ib:ie+1,n] - q[ib-1:ie,n]                                                                                   \n",
    "                                                                                                                                        \n",
    "        # these where's do a minmod()                                                                                               \n",
    "        d1 = 2.0*np.where(np.fabs(dl) < np.fabs(dr), dl, dr)                                                                        \n",
    "        d2 = np.where(np.fabs(dc) < np.fabs(d1), dc, d1)                                                                            \n",
    "        dq[:, n] = np.where(dl*dr > 0.0, d2, 0.0)  \n",
    "        # unlimited centered slopes\n",
    "        #dq[grid.ilo-1:grid.ihi+2,n] = 0.5*(q[grid.ilo:grid.ihi+3,n] - q[grid.ilo-2:grid.ihi+1,n])\n",
    "\n",
    "    # now make the states\n",
    "    q_l = grid.scratch_array(nc=NVAR)\n",
    "    q_l[grid.ilo:grid.ihi+2, :] = q[grid.ilo-1:grid.ihi+1, :] + 0.5*dq[grid.ilo-1:grid.ihi+1, :]\n",
    "\n",
    "    q_r = grid.scratch_array(nc=NVAR)\n",
    "    q_r[grid.ilo:grid.ihi+2, :] = q[grid.ilo:grid.ihi+2, :] - 0.5*dq[grid.ilo:grid.ihi+2, :]\n",
    "    \n",
    "    return q_l, q_r"
   ]
  },
  {
   "cell_type": "markdown",
   "metadata": {},
   "source": [
    "## Riemann problem and conservative update"
   ]
  },
  {
   "cell_type": "markdown",
   "metadata": {},
   "source": [
    "We could spend an entire day talking about how to solve the Riemann problem.  The basic idea is that at each interface, we have a left and right state.  Information about the jump across this interface will be carried away from the interface by the 3 hydrodynamic waves ($u$ and $u\\pm c$).  The solution to the Riemann problem that we need is the state on the interface--with that we can evaluate the flux through the interface.  \n",
    "\n",
    "To solve the Riemann problem, we need to know how much each variable changes across each of the three waves.  To complicate matters, the left and right waves can be either shocks or rarefactions.  The middle wave ($u$) is always a contact discontinuity (and of our primitive variables, only $\\rho$ jumps across it).\n",
    "\n",
    "For a gamma-law gas, we can write down analytic expressions for the change in the primitive variables across both a rarefaction and shock.  We can then solve these to find the state inbetween the left and right waves, and then compute the wave speeds to find the solution on the interface.  The exact Riemann solution is somewhat expensive to compute, so we often use approximations.  Here we'll import a solver that uses the _two-shock approximation_."
   ]
  },
  {
   "cell_type": "code",
   "execution_count": 3,
   "metadata": {},
   "outputs": [],
   "source": [
    "import riemann"
   ]
  },
  {
   "cell_type": "code",
   "execution_count": 4,
   "metadata": {},
   "outputs": [
    {
     "name": "stdout",
     "output_type": "stream",
     "text": [
      "Help on function riemann in module riemann:\n",
      "\n",
      "riemann(q_l, q_r, gamma)\n",
      "    solve the Riemann problem given left and right primitive variable\n",
      "    states.  We return the flux\n",
      "\n"
     ]
    }
   ],
   "source": [
    "help(riemann.riemann)"
   ]
  },
  {
   "cell_type": "markdown",
   "metadata": {},
   "source": [
    "For a method-of-lines approach, we want to just compute the righthand side, $-\\partial F/\\partial x$"
   ]
  },
  {
   "cell_type": "code",
   "execution_count": 5,
   "metadata": {},
   "outputs": [],
   "source": [
    "def make_flux_divergence(grid, U):\n",
    "    \n",
    "    # get the states\n",
    "    q_l, q_r = states(grid, U)\n",
    "\n",
    "    # now solve the Riemann problem\n",
    "    flux = grid.scratch_array(nc=NVAR)\n",
    "    for i in range(grid.ilo, grid.ihi+2):\n",
    "        flux[i, :] = riemann.riemann(q_l[i, :], q_r[i, :], gamma)\n",
    "        #print(\"q_l\", i, q_l[i,:])\n",
    "        #print(\"q_r\", i, q_r[i,:])        \n",
    "        #print(\"flux:\", i, flux[i,:])\n",
    "\n",
    "    A = grid.scratch_array(nc=NVAR)\n",
    "    for n in range(NVAR):\n",
    "        A[grid.ilo:grid.ihi+1, n] = (flux[grid.ilo:grid.ihi+1, n] -\n",
    "                                     flux[grid.ilo+1:grid.ihi+2, n])/grid.dx\n",
    "\n",
    "    #print(\"A\", A.min(), A.max())\n",
    "    return A\n"
   ]
  },
  {
   "cell_type": "markdown",
   "metadata": {},
   "source": [
    "## Timestep"
   ]
  },
  {
   "cell_type": "code",
   "execution_count": 6,
   "metadata": {},
   "outputs": [],
   "source": [
    "def timestep(grid, U):\n",
    "\n",
    "    # compute the sound speed\n",
    "    q = cons_to_prim(grid, U)\n",
    "    c = grid.scratch_array()\n",
    "    c[grid.ilo:grid.ihi+1] = np.sqrt(gamma *\n",
    "                                     q[grid.ilo:grid.ihi+1,QP] /\n",
    "                                     q[grid.ilo:grid.ihi+1,QRHO])\n",
    "\n",
    "    dt = C * grid.dx / (np.abs(q[grid.ilo:grid.ihi+1, QU]) + c[grid.ilo:grid.ihi+1]).max()\n",
    "    return dt\n"
   ]
  },
  {
   "cell_type": "markdown",
   "metadata": {},
   "source": [
    "## Main driver"
   ]
  },
  {
   "cell_type": "code",
   "execution_count": 7,
   "metadata": {},
   "outputs": [],
   "source": [
    "def mol_solve(nx):\n",
    "\n",
    "    grid = FVGrid(nx, 2)\n",
    "    U = grid.scratch_array(nc=NVAR)\n",
    "\n",
    "    # setup initial conditions -- this is Sod's problem\n",
    "    rho_l = 1.0\n",
    "    u_l = 0.0\n",
    "    p_l = 1.0\n",
    "    rho_r = 0.125\n",
    "    u_r = 0.0\n",
    "    p_r = 0.1\n",
    "\n",
    "    idx_l = grid.x < 0.5\n",
    "    idx_r = grid.x >= 0.5\n",
    "\n",
    "    U[idx_l, URHO] = rho_l\n",
    "    U[idx_l, UMX] =  rho_l * u_l\n",
    "    U[idx_l, UENER] = p_l/(gamma - 1.0) + 0.5 * rho_l * u_l**2\n",
    "\n",
    "    U[idx_r, URHO] = rho_r\n",
    "    U[idx_r, UMX] =  rho_r * u_r\n",
    "    U[idx_r, UENER] = p_r/(gamma - 1.0) + 0.5 * rho_r * u_r**2\n",
    "\n",
    "    t = 0.0\n",
    "    tmax = 0.2\n",
    "    \n",
    "    while t < tmax:\n",
    "\n",
    "        # compute the timestep\n",
    "        dt = timestep(grid, U)\n",
    "\n",
    "        if t + dt > tmax:\n",
    "            dt = tmax - t\n",
    "\n",
    "        print(t, dt, U.max())\n",
    "        # second-order RK integration\n",
    "        grid.fill_BCs(U)\n",
    "        k1 = make_flux_divergence(grid, U)\n",
    "\n",
    "        U_tmp = grid.scratch_array(nc=NVAR)\n",
    "        for n in range(NVAR):\n",
    "            U_tmp[:, n] = U[:, n] + 0.5 * dt * k1[:, n]\n",
    "\n",
    "        grid.fill_BCs(U_tmp)\n",
    "        k2 = make_flux_divergence(grid, U_tmp)\n",
    "\n",
    "        for n in range(NVAR):\n",
    "            U[:, n] += dt * k2[:, n]\n",
    "\n",
    "        t += dt\n",
    "\n",
    "    return U"
   ]
  },
  {
   "cell_type": "markdown",
   "metadata": {},
   "source": [
    "## Example: Sod's problem"
   ]
  },
  {
   "cell_type": "code",
   "execution_count": 8,
   "metadata": {},
   "outputs": [
    {
     "name": "stdout",
     "output_type": "stream",
     "text": [
      "0.0 0.005282214092053229 2.5000000000000004\n",
      "0.005282214092053229 0.0029828461236702406 2.5000000000000004\n",
      "0.00826506021572347 0.0029231701102326985 2.5000000000000004\n",
      "0.011188230325956169 0.0029873483107570346 2.5000000000000004\n",
      "0.014175578636713204 0.002976559122825153 2.5000000000000004\n",
      "0.017152137759538357 0.0029581840303658236 2.5000000000000004\n",
      "0.02011032178990418 0.002949521778627517 2.5000000000000004\n",
      "0.023059843568531697 0.0028927510458926255 2.5000000000000004\n",
      "0.025952594614424323 0.0028637323773426917 2.5000000000000004\n",
      "0.028816326991767015 0.0028915888959705717 2.5000000000000004\n",
      "0.03170791588773759 0.0028878391932473917 2.5000000000000004\n",
      "0.03459575508098498 0.0028497881252002345 2.5000000000000004\n",
      "0.03744554320618522 0.0028394291493643695 2.5000000000000004\n",
      "0.04028497235554959 0.0028543750518426414 2.5000000000000004\n",
      "0.04313934740739223 0.002830306777937868 2.5000000000000004\n",
      "0.0459696541853301 0.0028217428758474 2.5000000000000004\n",
      "0.048791397061177494 0.0028318361361770223 2.5000000000000004\n",
      "0.05162323319735452 0.002832417970740539 2.5000000000000004\n",
      "0.05445565116809506 0.002818147713848837 2.5000000000000004\n",
      "0.057273798881943894 0.0028109879663330006 2.5000000000000004\n",
      "0.060084786848276894 0.002811962284272111 2.5000000000000004\n",
      "0.062896749132549 0.002821729571099206 2.5000000000000004\n",
      "0.0657184787036482 0.0028264997232810853 2.5000000000000004\n",
      "0.06854497842692929 0.002821276531562356 2.5000000000000004\n",
      "0.07136625495849165 0.0028174677688417287 2.5000000000000004\n",
      "0.07418372272733338 0.0028153683790005774 2.5000000000000004\n",
      "0.07699909110633396 0.0028187348262189785 2.5000000000000004\n",
      "0.07981782593255293 0.002825112206439268 2.5000000000000004\n",
      "0.0826429381389922 0.002824153690684409 2.5000000000000004\n",
      "0.08546709182967661 0.002823748098293432 2.5000000000000004\n",
      "0.08829083992797004 0.0028229961232442034 2.5000000000000004\n",
      "0.09111383605121424 0.0028223561535697505 2.5000000000000004\n",
      "0.093936192204784 0.002824018321097217 2.5000000000000004\n",
      "0.09676021052588121 0.002825850736939421 2.5000000000000004\n",
      "0.09958606126282063 0.002825501758532752 2.5000000000000004\n",
      "0.10241156302135339 0.002825927593225207 2.5000000000000004\n",
      "0.1052374906145786 0.0028256078026552083 2.5000000000000004\n",
      "0.10806309841723381 0.0028254320523292647 2.5000000000000004\n",
      "0.11088853046956308 0.0028272755970365025 2.5000000000000004\n",
      "0.11371580606659959 0.002827179841184752 2.5000000000000004\n",
      "0.11654298590778434 0.002827173591354465 2.5000000000000004\n",
      "0.1193701594991388 0.00282787647258848 2.5000000000000004\n",
      "0.12219803597172728 0.0028278723444235716 2.5000000000000004\n",
      "0.12502590831615085 0.0028278924476025516 2.5000000000000004\n",
      "0.1278538007637534 0.0028290323026189798 2.5000000000000004\n",
      "0.13068283306637238 0.0028289238413976283 2.5000000000000004\n",
      "0.13351175690777 0.0028288657640153625 2.5000000000000004\n",
      "0.13634062267178537 0.0028293148886652042 2.5000000000000004\n",
      "0.13916993756045057 0.002829355940445464 2.5000000000000004\n",
      "0.14199929350089605 0.0028293895118519387 2.5000000000000004\n",
      "0.14482868301274798 0.002830105389336852 2.5000000000000004\n",
      "0.14765878840208482 0.002830116861123647 2.5000000000000004\n",
      "0.15048890526320846 0.0028301379399997334 2.5000000000000004\n",
      "0.1533190432032082 0.0028303159625871076 2.5000000000000004\n",
      "0.1561493591657953 0.0028303170598439984 2.5000000000000004\n",
      "0.1589796762256393 0.0028303718227200582 2.5000000000000004\n",
      "0.16181004804835936 0.0028309854816005223 2.5000000000000004\n",
      "0.16464103352995987 0.0028311612336693165 2.5000000000000004\n",
      "0.16747219476362918 0.002831481751302541 2.5000000000000004\n",
      "0.17030367651493172 0.002832025479520492 2.5000000000000004\n",
      "0.17313570199445222 0.0028321252454586473 2.5000000000000004\n",
      "0.17596782723991086 0.002832350584282764 2.5000000000000004\n",
      "0.17880017782419363 0.002832297879413082 2.5000000000000004\n",
      "0.18163247570360672 0.0028322341923112094 2.5000000000000004\n",
      "0.18446470989591793 0.0028323622644626455 2.5000000000000004\n",
      "0.18729707216038058 0.002832288268949593 2.5000000000000004\n",
      "0.19012936042933018 0.0028322412175362344 2.5000000000000004\n",
      "0.1929616016468664 0.0028324734929010905 2.5000000000000004\n",
      "0.1957940751397675 0.002832469542477649 2.5000000000000004\n",
      "0.19862654468224514 0.0013734553177548736 2.5000000000000004\n"
     ]
    }
   ],
   "source": [
    "U = mol_solve(128)"
   ]
  },
  {
   "cell_type": "code",
   "execution_count": 9,
   "metadata": {},
   "outputs": [],
   "source": [
    "import matplotlib.pyplot as plt"
   ]
  },
  {
   "cell_type": "code",
   "execution_count": 10,
   "metadata": {},
   "outputs": [
    {
     "data": {
      "text/plain": [
       "[<matplotlib.lines.Line2D at 0x7f6bd5f3dda0>]"
      ]
     },
     "execution_count": 10,
     "metadata": {},
     "output_type": "execute_result"
    },
    {
     "data": {
      "image/png": "[encoded data removed]",
      "text/plain": [
       "<Figure size 432x288 with 1 Axes>"
      ]
     },
     "metadata": {
      "needs_background": "light"
     },
     "output_type": "display_data"
    }
   ],
   "source": [
    "plt.plot(U[:,URHO])"
   ]
  },
  {
   "cell_type": "code",
   "execution_count": null,
   "metadata": {},
   "outputs": [],
   "source": []
  }
 ],
 "metadata": {
  "kernelspec": {
   "display_name": "Python 3",
   "language": "python",
   "name": "python3"
  },
  "language_info": {
   "codemirror_mode": {
    "name": "ipython",
    "version": 3
   },
   "file_extension": ".py",
   "mimetype": "text/x-python",
   "name": "python",
   "nbconvert_exporter": "python",
   "pygments_lexer": "ipython3",
   "version": "3.7.3"
  }
 },
 "nbformat": 4,
 "nbformat_minor": 4
}
