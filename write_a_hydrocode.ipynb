{
 "cells": [
  {
   "cell_type": "markdown",
   "metadata": {},
   "source": [
    "# How To Write A Hydro Code\n",
    "\n",
    "Michael Zingale"
   ]
  },
  {
   "cell_type": "markdown",
   "metadata": {},
   "source": [
    "There are _many_ methods for solving the equations of hydrodynamics.  We will make some choices right from the start:\n",
    "\n",
    "  * We will consider **finite-volume methods**.  These are popular in astrophysics because they are based on the integral form of the conservative equations and properly conserve mass, momentum, and energy.\n",
    "  \n",
    "  * We will look at a simple 2nd order **method-of-lines** integration.  We do this for simplicity here, and will point out where things are commonly done differently.  This scheme has a much simpler spatial reconstruction and relies on an integrator (like a Runge-Kutta method) to advance in time.\n",
    "  \n",
    "  * We will work in 1-d.  \n",
    "    \n",
    "Much more in-depth details and derivations are given in my hydro notes available online: https://github.com/Open-Astrophysics-Bookshelf/numerical_exercises\n",
    "\n",
    "For a greater variety of methods, in 2-d, see the pyro code: https://github.com/python-hydro/pyro2 (ref: [Harpole et al. JOSS](http://joss.theoj.org/papers/10.21105/joss.01265))"
   ]
  },
  {
   "cell_type": "markdown",
   "metadata": {},
   "source": [
    "## Overview\n",
    "\n",
    "We'll focus on the Euler equations.  In 1-d, these are:\n",
    "\n",
    "\\begin{align*}\n",
    "  \\frac{\\partial \\rho}{\\partial t} + \\frac{\\partial (\\rho u)}{\\partial x} & = 0 \\\\\n",
    "  \\frac{\\partial (\\rho u)}{\\partial t} + \\frac{\\partial (\\rho u^2 + p)}{\\partial x} &= 0 \\\\\n",
    "  \\frac{\\partial (\\rho E)}{\\partial t} + \\frac{\\partial (u(\\rho E + p))}{\\partial x} &= 0 \\\\\n",
    "  \\end{align*}\n",
    "\n",
    "This is a set of (hyperbolic) partial differential equations.  To solve these, we need to discretize the equations in both space and time.  We'll use grid-based methods (in addition to the finite-volume method, this can include finite-difference and finite-element methods).  \n",
    "\n",
    "Our system of equations can be expressed in conservative form:\n",
    "$$ \\frac{\\partial U}{\\partial t} + \\frac{\\partial F(U)}{\\partial x} = 0$$\n",
    "\n",
    "In a finite-volume method, we store the state of the fluid in discrete volumes in space, and we can refer to this discretized state with an index.  To see this, we integrate the conservative law system in space over a volume $[x_{i-1/2},x_{i+1/2}]$:\n",
    "$$\\frac{\\partial \\langle U\\rangle_i}{\\partial t} = - \\frac{F_{i+1/2} - F_{i-1/2}}{\\Delta x}$$\n",
    "\n",
    "This is the form of the equations we will solve.  Here, $\\langle U\\rangle_i$ represents the average state of the fluid in a volume:\n",
    "$$\\langle U\\rangle_i = \\frac{1}{\\Delta x} \\int_{x_{i-1/2}}^{x_{i+1/2}} U(x) dx$$\n",
    "\n",
    "The state on the grid represents an instance in time.  We evolve the state by computing the fluxes through the volumes.  These fluxes tell us how much the state changes in each volume over some small timestep, $\\Delta t$.  \n",
    "\n",
    "Our code will have the following structure:\n",
    "\n",
    "  * Create our numerical grid\n",
    "  \n",
    "  * Set the initial conditions\n",
    "  \n",
    "  * Main timestep evolution loop\n",
    "  \n",
    "    * Compute the timestep\n",
    "    \n",
    "    * Time-integation loop (depends on the number of stages in the integrator)\n",
    "  \n",
    "        * Reconstruct the state to interfaces\n",
    "    \n",
    "        * Solve Riemann problem to find the fluxes through the interface\n",
    "    \n",
    "        * Do a conservative update of the state to the stage\n",
    "    \n",
    "    * Output"
   ]
  },
  {
   "cell_type": "markdown",
   "metadata": {},
   "source": [
    "## Grid"
   ]
  },
  {
   "cell_type": "code",
   "execution_count": null,
   "metadata": {},
   "outputs": [],
   "source": []
  },
  {
   "cell_type": "code",
   "execution_count": 3,
   "metadata": {},
   "outputs": [],
   "source": [
    "class FVGrid:\n",
    "\n",
    "    def __init__(self, nx, ng, xmin=0.0, xmax=1.0):\n",
    "\n",
    "        self.xmin = xmin\n",
    "        self.xmax = xmax\n",
    "        self.ng = ng\n",
    "        self.nx = nx\n",
    "\n",
    "        # python is zero-based.  Make easy intergers to know where the\n",
    "        # real data lives\n",
    "        self.ilo = ng\n",
    "        self.ihi = ng+nx-1\n",
    "\n",
    "        # physical coords -- cell-centered\n",
    "        self.dx = (xmax - xmin)/(nx)\n",
    "        self.x = xmin + (np.arange(nx+2*ng)-ng+0.5)*self.dx\n",
    "\n",
    "    def scratch_array(self, nc=1):\n",
    "        \"\"\" return a scratch array dimensioned for our grid \"\"\"\n",
    "        if nc == 1:\n",
    "            return np.zeros((self.nx+2*self.ng), dtype=np.float64)\n",
    "        else:\n",
    "            return np.zeros((self.nx+2*self.ng, nc), dtype=np.float64)\n",
    "\n",
    "    def fill_BCs(self, atmp):\n",
    "        \"\"\" fill all ghost cells with zero-gradient boundary conditions \"\"\"\n",
    "\n",
    "        try:\n",
    "            nc = atmp.shape[1]\n",
    "        except:\n",
    "            nc = 1\n",
    "\n",
    "        if nc == 1:\n",
    "            atmp[0:self.ilo] = atmp[self.ilo]\n",
    "            atmp[self.ihi+1:] = atmp[self.ihi]\n",
    "        else:\n",
    "            for n in range(nc):\n",
    "                atmp[0:self.ilo, n] = atmp[self.ilo, n]\n",
    "                atmp[self.ihi+1:, n] = atmp[self.ihi, n]"
   ]
  },
  {
   "cell_type": "markdown",
   "metadata": {},
   "source": [
    "## Reconstruction"
   ]
  },
  {
   "cell_type": "code",
   "execution_count": null,
   "metadata": {},
   "outputs": [],
   "source": []
  },
  {
   "cell_type": "code",
   "execution_count": 5,
   "metadata": {},
   "outputs": [],
   "source": [
    "def states(grid, U):\n",
    "    \n",
    "    # convert to primitive\n",
    "    q = grid.scratch_array(nc=NVAR)\n",
    "\n",
    "    q[:, QRHO] = U[:, URHO]\n",
    "    q[:, QU] = U[:, UMX]/U[:, URHO]\n",
    "    q[:, QP] = (U[:, UENER] - 0.5*q[:, QRHO]*q[:, QU]**2)*(gamma - 1.0)    \n",
    "\n",
    "    # construct the slopes\n",
    "    dq = grid.scratch_array(nc=NVAR)\n",
    "\n",
    "    for n in range(NVAR):\n",
    "        # unlimited centered slopes\n",
    "        dq[ib:ie+1,n] = 0.5*(q[ib+1:ie+2,n] - q[ib-1:ie,n])\n",
    "\n",
    "    # now make the states\n",
    "    q_l = grid.scratch_array(nc=NVAR)\n",
    "    q_l[grid.ilo:grid.ihi+2, :] = q[grid.ilo-1:grid.ihi+1, :] + 0.5*dq[grid.ilo-1:grid.ihi+1, :]\n",
    "\n",
    "    q_r = grid.scratch_array(nc=NVAR)\n",
    "    q_r[grid.ilo:grid.ihi+2, :] = q[grid.ilo:grid.ihi+2, :] - 0.5*dq[self.gr.ilo:self.gr.ihi+2, :]"
   ]
  },
  {
   "cell_type": "markdown",
   "metadata": {},
   "source": [
    "## Riemann problem"
   ]
  },
  {
   "cell_type": "code",
   "execution_count": null,
   "metadata": {},
   "outputs": [],
   "source": []
  },
  {
   "cell_type": "markdown",
   "metadata": {},
   "source": [
    "## Conservative update"
   ]
  },
  {
   "cell_type": "code",
   "execution_count": null,
   "metadata": {},
   "outputs": [],
   "source": []
  },
  {
   "cell_type": "markdown",
   "metadata": {},
   "source": [
    "## Main driver"
   ]
  },
  {
   "cell_type": "code",
   "execution_count": null,
   "metadata": {},
   "outputs": [],
   "source": []
  },
  {
   "cell_type": "markdown",
   "metadata": {},
   "source": [
    "## Example: Sod's problem"
   ]
  },
  {
   "cell_type": "code",
   "execution_count": null,
   "metadata": {},
   "outputs": [],
   "source": []
  }
 ],
 "metadata": {
  "kernelspec": {
   "display_name": "Python 3",
   "language": "python",
   "name": "python3"
  },
  "language_info": {
   "codemirror_mode": {
    "name": "ipython",
    "version": 3
   },
   "file_extension": ".py",
   "mimetype": "text/x-python",
   "name": "python",
   "nbconvert_exporter": "python",
   "pygments_lexer": "ipython3",
   "version": "3.7.3"
  }
 },
 "nbformat": 4,
 "nbformat_minor": 2
}
